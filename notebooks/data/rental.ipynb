{
 "cells": [
  {
   "cell_type": "code",
   "execution_count": null,
   "id": "incorrect-cheat",
   "metadata": {},
   "outputs": [],
   "source": [
    "import pandas as pd\n",
    "from pathlib import Path\n",
    "import numpy as np\n",
    "\n",
    "path = Path(\"data/Metro_ZORI_AllHomesPlusMultifamily_Smoothed.csv\")"
   ]
  },
  {
   "cell_type": "code",
   "execution_count": null,
   "metadata": {},
   "outputs": [],
   "source": [
    "def start_pipe(dataf:pd.DataFrame) -> pd.DataFrame:\n",
    "    return dataf.copy()\n",
    "\n",
    "def remove_columns(dataf):\n",
    "    dataf = (\n",
    "        dataf.drop(0)\n",
    "        .drop([\"RegionID\", \"SizeRank\"], axis = 1)\n",
    "        )\n",
    "    return dataf\n",
    "\n",
    "def parse_dates(dataf):\n",
    "    return dataf.assign(Date = pd.to_datetime(dataf['Date'], infer_datetime_format=True))\n",
    "\n",
    "def melt_df(dataf):\n",
    "    # Melt data and parse dates.\n",
    "    return dataf.melt([\"RegionName\"], var_name=\"Date\", value_name = \"RentIndex\")\n",
    "\n",
    "def interpolate_data_and_lag(dataf, lag=12, targets=6):\n",
    "    cities = dataf['RegionName'].unique()\n",
    "    interpol = []\n",
    "    for c in cities:\n",
    "\n",
    "        mask = dataf['RegionName'] == c\n",
    "        chunk = (dataf[mask]\n",
    "                 .drop('RegionName', 1)\n",
    "                 .set_index('Date')\n",
    "                 .resample(rule=\"M\")\n",
    "                 .mean()\n",
    "                 .interpolate()\n",
    "                 .bfill()\n",
    "                 )\n",
    "        for i in range(1,lag+1):\n",
    "            chunk[f't-{i}'] = chunk['RentIndex'].shift(i)\n",
    "            chunk[f't-{i}Diff'] = chunk['RentIndex'] - chunk[f't-{i}']\n",
    "        for i in range(1,targets+1):\n",
    "            chunk[f't+{i}'] = chunk['RentIndex'].shift(-i)\n",
    "        chunk['RegionName'] = c\n",
    "        chunk=chunk.reset_index().reset_index().rename({\"index\":\"TimeIndex\"}, axis=1)\n",
    "        interpol.append(chunk)\n",
    "\n",
    "    return pd.concat(interpol, ignore_index=True)\n",
    "\n",
    "\n",
    "def extract_month_and_year(dataf):\n",
    "    day = 24*60*60\n",
    "    year = (365.2425)*day\n",
    "    return dataf.assign(\n",
    "        MonthSin = np.sin(dataf['Date'].dt.month * (2 * np.pi / 12)),\n",
    "        MonthCos = np.cos(dataf['Date'].dt.month * (2 * np.pi / 12)),\n",
    "        Year = dataf['Date'].dt.year,\n",
    "        Covid = (dataf['Date'].dt.year >= 2020) & (dataf['Date'].dt.month >= 3)\n",
    "        )\n",
    "\n",
    "from category_encoders import OrdinalEncoder, OneHotEncoder\n",
    "from sklearn.preprocessing import StandardScaler\n",
    "\n",
    "encoder = OneHotEncoder()\n",
    "scaler = StandardScaler()\n",
    "\n",
    "def scale_and_encode(dataf, df_scaler, df_encoder, n_lag = 12, n_target=6):\n",
    "    # col_to_scale = ['RentIndex', 't-1', 't-1Diff', 't-2', 't-2Diff', 't-3',\n",
    "    #    't-3Diff', 't-4', 't-4Diff', 't-5', 't-5Diff', 't-6', 't-6Diff', 't-7',\n",
    "    #    't-7Diff', 't-8', 't-8Diff', 't-9', 't-9Diff', 't-10', 't-10Diff',\n",
    "    #    't-11', 't-11Diff', 't-12', 't-12Diff', 't+1', 't+2', 't+3', 't+4',\n",
    "    #    't+5', 't+6']\n",
    "\n",
    "    col_to_scale = [f't-{t}' for t in range(1, n_lag+1)] + [f't-{t}Diff' for t in range(1, n_lag+1)] + [f't+{t}' for t in range(1, n_target+1)]\n",
    "\n",
    "    df_scaler.fit_transform(dataf[['RentIndex']])\n",
    "    \n",
    "    for col in col_to_scale:\n",
    "        dataf[col] = df_scaler.transform(dataf[[col]])\n",
    "    \n",
    "\n",
    "    \n",
    "    regions = dataf['RegionName']\n",
    "    dataf = encoder.fit_transform(dataf)\n",
    "    dataf['RegionName'] = regions\n",
    "    return dataf\n",
    "\n",
    "def drop_id_columns(dataf):\n",
    "    return dataf.drop(['RegionName', 'Date'], axis=1).dropna()\n",
    "\n",
    "\n"
   ]
  },
  {
   "cell_type": "code",
   "execution_count": null,
   "metadata": {},
   "outputs": [],
   "source": [
    "df = pd.read_csv(path)\n",
    "\n",
    "encoder = OneHotEncoder()\n",
    "scaler = StandardScaler()\n",
    "\n",
    "n_lag, n_target = 12,6\n",
    "\n",
    "cleaned = (df.pipe(start_pipe)\n",
    "        .pipe(remove_columns)\n",
    "        .pipe(melt_df)\n",
    "        .pipe(parse_dates)\n",
    "        .pipe(interpolate_data_and_lag, lag=n_lag, targets=n_target)\n",
    "        .pipe(extract_month_and_year)\n",
    "        .pipe(scale_and_encode, scaler, encoder, n_lag=n_lag, n_target=n_target)\n",
    "        )\n",
    "df = (cleaned.pipe(drop_id_columns))\n",
    "df"
   ]
  },
  {
   "cell_type": "code",
   "execution_count": null,
   "id": "german-oriental",
   "metadata": {},
   "outputs": [],
   "source": [
    "max_time = max(df['TimeIndex'])\n",
    "\n",
    "train = df[df['TimeIndex'] < int(max_time - 6)].drop('TimeIndex',1)\n",
    "val = df[df['TimeIndex'] > int(max_time - 6)].drop('TimeIndex',1)\n",
    "full = df[df['TimeIndex'] < int(max_time - 1)].drop('TimeIndex',1)\n",
    "last = df[df['TimeIndex'] > int(max_time - 1)].drop('TimeIndex',1)"
   ]
  },
  {
   "cell_type": "code",
   "execution_count": null,
   "id": "plain-schema",
   "metadata": {},
   "outputs": [],
   "source": [
    "def split_target(df, n_target=6):\n",
    "    targets = [f't+{t}' for t in range(1, n_target+1)]\n",
    "    return (df.drop(targets,1), df[targets])\n"
   ]
  },
  {
   "cell_type": "code",
   "execution_count": null,
   "id": "hispanic-threat",
   "metadata": {},
   "outputs": [],
   "source": [
    "from sklearn.metrics import mean_absolute_percentage_error as mape\n",
    "from sklearn.ensemble import RandomForestRegressor"
   ]
  },
  {
   "cell_type": "code",
   "execution_count": null,
   "id": "confident-hunger",
   "metadata": {},
   "outputs": [],
   "source": [
    "val_x, val_y = split_target(val)\n",
    "train_x, train_y = split_target(train)"
   ]
  },
  {
   "cell_type": "code",
   "execution_count": null,
   "metadata": {},
   "outputs": [],
   "source": []
  },
  {
   "cell_type": "code",
   "execution_count": null,
   "metadata": {},
   "outputs": [],
   "source": [
    "train_y"
   ]
  },
  {
   "cell_type": "code",
   "execution_count": null,
   "id": "organizational-mentor",
   "metadata": {},
   "outputs": [],
   "source": [
    "model = RandomForestRegressor(2500, n_jobs=-1)\n",
    "model.fit(train_x, train_y.dropna())"
   ]
  },
  {
   "cell_type": "code",
   "execution_count": null,
   "id": "known-satin",
   "metadata": {},
   "outputs": [],
   "source": [
    "from sklearn.metrics import mean_squared_error"
   ]
  },
  {
   "cell_type": "code",
   "execution_count": null,
   "id": "minor-sociology",
   "metadata": {},
   "outputs": [],
   "source": [
    "preds = model.predict(val_x)\n",
    "mape(scaler.inverse_transform(preds), scaler.inverse_transform(val_y))"
   ]
  },
  {
   "cell_type": "code",
   "execution_count": null,
   "metadata": {},
   "outputs": [],
   "source": [
    "val_idx = val_x.index.to_numpy()\n",
    "ids = cleaned.loc[cleaned.index.isin(val_idx),['RegionName', 'Date']]"
   ]
  },
  {
   "cell_type": "code",
   "execution_count": null,
   "metadata": {},
   "outputs": [],
   "source": [
    "projections = pd.DataFrame(scaler.inverse_transform(preds), columns=[f't+{t}' for t in range(1, n_target+1)], index=val_idx)\n",
    "projections"
   ]
  },
  {
   "cell_type": "code",
   "execution_count": null,
   "metadata": {},
   "outputs": [],
   "source": [
    "projections.join(ids)"
   ]
  },
  {
   "cell_type": "code",
   "execution_count": null,
   "metadata": {},
   "outputs": [],
   "source": [
    "path = Path(\"data/Metro_ZORI_AllHomesPlusMultifamily_Smoothed.csv\")\n",
    "df = pd.read_csv(path)\n",
    "df"
   ]
  },
  {
   "cell_type": "code",
   "execution_count": null,
   "id": "champion-healthcare",
   "metadata": {},
   "outputs": [],
   "source": [
    "base = pd.DataFrame([val_x['t-1'],val_x['t-1'],val_x['t-1'],val_x['t-1'],val_x['t-1'],val_x['t-1']]).T"
   ]
  },
  {
   "cell_type": "code",
   "execution_count": null,
   "id": "bright-adapter",
   "metadata": {},
   "outputs": [],
   "source": [
    "a = mean_squared_error(scaler.inverse_transform(preds), scaler.inverse_transform(val_y), squared=True)\n"
   ]
  },
  {
   "cell_type": "code",
   "execution_count": null,
   "id": "dedicated-export",
   "metadata": {},
   "outputs": [],
   "source": [
    "b = mean_squared_error(scaler.inverse_transform(base), scaler.inverse_transform(val_y), squared=True)"
   ]
  },
  {
   "cell_type": "code",
   "execution_count": null,
   "id": "least-payday",
   "metadata": {},
   "outputs": [],
   "source": [
    "(b-a) / b *100"
   ]
  },
  {
   "cell_type": "code",
   "execution_count": null,
   "id": "lined-triangle",
   "metadata": {},
   "outputs": [],
   "source": [
    "all_x, all_y = split_target(full)\n",
    "last_x, last_y = split_target(last)"
   ]
  },
  {
   "cell_type": "code",
   "execution_count": null,
   "id": "cultural-friendly",
   "metadata": {},
   "outputs": [],
   "source": [
    "model.fit(all_x, all_y)\n"
   ]
  },
  {
   "cell_type": "code",
   "execution_count": null,
   "metadata": {},
   "outputs": [],
   "source": [
    "pred = model.predict(last_x)"
   ]
  },
  {
   "cell_type": "code",
   "execution_count": null,
   "id": "logical-blind",
   "metadata": {},
   "outputs": [],
   "source": [
    "ny_proj = pd.DataFrame(scaler.inverse_transform(pred)).iloc[0,:]\n",
    "ny_proj"
   ]
  },
  {
   "cell_type": "code",
   "execution_count": null,
   "metadata": {},
   "outputs": [],
   "source": [
    "ny_val = pd.DataFrame(scaler.inverse_transform(last_y)).iloc[0,:]"
   ]
  },
  {
   "cell_type": "code",
   "execution_count": null,
   "metadata": {},
   "outputs": [],
   "source": [
    "data= pd.DataFrame([ny_val, ny_proj ], index=['Actual','Projected'])"
   ]
  },
  {
   "cell_type": "code",
   "execution_count": null,
   "metadata": {},
   "outputs": [],
   "source": [
    "last_x"
   ]
  },
  {
   "cell_type": "code",
   "execution_count": null,
   "metadata": {},
   "outputs": [],
   "source": [
    "prior_data = pd.DataFrame(scaler.inverse_transform(last_x.loc[77][['t-12', 't-11','t-10','t-9','t-8','t-7','t-6','t-5','t-6','t-5','t-4','t-3','t-2','t-1']]))"
   ]
  },
  {
   "cell_type": "code",
   "execution_count": null,
   "metadata": {},
   "outputs": [],
   "source": [
    "prior_data"
   ]
  },
  {
   "cell_type": "code",
   "execution_count": null,
   "metadata": {},
   "outputs": [],
   "source": [
    "prior_data['Projected'] = np.nan"
   ]
  },
  {
   "cell_type": "code",
   "execution_count": null,
   "metadata": {},
   "outputs": [],
   "source": [
    "prior_data=prior_data.rename({0:'Actual'},axis=1)"
   ]
  },
  {
   "cell_type": "code",
   "execution_count": null,
   "metadata": {},
   "outputs": [],
   "source": [
    "data.T.set_index(pd.Index([i+15 for i in range(6)]))"
   ]
  },
  {
   "cell_type": "code",
   "execution_count": null,
   "metadata": {},
   "outputs": [],
   "source": [
    "combined_data = pd.concat([prior_data,data.T.set_index(pd.Index([i+15 for i in range(6)]))])\n",
    "combined_data"
   ]
  },
  {
   "cell_type": "code",
   "execution_count": null,
   "metadata": {},
   "outputs": [],
   "source": [
    "melted = combined_data.reset_index().melt(id_vars='index')\n",
    "melted"
   ]
  },
  {
   "cell_type": "code",
   "execution_count": null,
   "metadata": {},
   "outputs": [],
   "source": [
    "from plotly import express as px"
   ]
  },
  {
   "cell_type": "code",
   "execution_count": null,
   "metadata": {},
   "outputs": [],
   "source": [
    "px.line(melted, x = 'index', y = 'value', color='variable')"
   ]
  },
  {
   "cell_type": "code",
   "execution_count": null,
   "metadata": {},
   "outputs": [],
   "source": [
    "cities= pd.DataFrame(all_x['RegionName'].unique())"
   ]
  },
  {
   "cell_type": "code",
   "execution_count": null,
   "metadata": {},
   "outputs": [],
   "source": [
    "cities.to_csv(\"cities.csv\")"
   ]
  },
  {
   "cell_type": "code",
   "execution_count": null,
   "metadata": {},
   "outputs": [],
   "source": [
    "cities[0].str.split(', ',expand=True).sort_values(1)"
   ]
  },
  {
   "cell_type": "code",
   "execution_count": null,
   "metadata": {},
   "outputs": [],
   "source": [
    "pd.DataFrame(cities[0].str.split(', ',expand=True)[1].unique()).to_csv('states.csv')"
   ]
  },
  {
   "cell_type": "code",
   "execution_count": null,
   "metadata": {},
   "outputs": [],
   "source": [
    "cleaned"
   ]
  },
  {
   "cell_type": "code",
   "execution_count": null,
   "metadata": {},
   "outputs": [],
   "source": [
    "cleaned.shape"
   ]
  },
  {
   "cell_type": "code",
   "execution_count": null,
   "metadata": {},
   "outputs": [],
   "source": [
    "cleaned.iloc[8483,:]"
   ]
  },
  {
   "cell_type": "code",
   "execution_count": null,
   "metadata": {},
   "outputs": [],
   "source": [
    "latest = cleaned.pipe(drop_id_columns).loc[8477].to_numpy().reshape(1,-1)"
   ]
  },
  {
   "cell_type": "code",
   "execution_count": null,
   "metadata": {},
   "outputs": [],
   "source": [
    "model.predict(latest)"
   ]
  },
  {
   "cell_type": "code",
   "execution_count": null,
   "metadata": {},
   "outputs": [],
   "source": [
    "latest_pred = model.predict(cleaned.pipe(drop_id_columns).loc[8477].drop([f't+{t}' for t in range(1, n_target+1)]+['TimeIndex']).to_numpy().reshape(1,-1))"
   ]
  },
  {
   "cell_type": "code",
   "execution_count": null,
   "metadata": {},
   "outputs": [],
   "source": [
    "scaler.inverse_transform(latest_pred)"
   ]
  },
  {
   "cell_type": "code",
   "execution_count": null,
   "metadata": {},
   "outputs": [],
   "source": [
    "set(col1)"
   ]
  },
  {
   "cell_type": "code",
   "execution_count": null,
   "metadata": {},
   "outputs": [],
   "source": [
    "val_x.columns"
   ]
  },
  {
   "cell_type": "code",
   "execution_count": null,
   "metadata": {},
   "outputs": [],
   "source": []
  }
 ],
 "metadata": {
  "kernelspec": {
   "display_name": "Python 3",
   "language": "python",
   "name": "python3"
  },
  "language_info": {
   "codemirror_mode": {
    "name": "ipython",
    "version": 3
   },
   "file_extension": ".py",
   "mimetype": "text/x-python",
   "name": "python",
   "nbconvert_exporter": "python",
   "pygments_lexer": "ipython3",
   "version": "3.8.7-final"
  }
 },
 "nbformat": 4,
 "nbformat_minor": 5
}