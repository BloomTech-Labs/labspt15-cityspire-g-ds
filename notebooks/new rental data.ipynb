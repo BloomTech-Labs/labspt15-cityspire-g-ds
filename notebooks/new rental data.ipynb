{
 "metadata": {
  "language_info": {
   "codemirror_mode": {
    "name": "ipython",
    "version": 3
   },
   "file_extension": ".py",
   "mimetype": "text/x-python",
   "name": "python",
   "nbconvert_exporter": "python",
   "pygments_lexer": "ipython3",
   "version": "3.8.7-final"
  },
  "orig_nbformat": 2,
  "kernelspec": {
   "name": "python38764bitvenvvenv519d74b5c1cf42cc8042e0d0f7cb4d2e",
   "display_name": "Python 3.8.7 64-bit ('.venv': venv)",
   "language": "python"
  }
 },
 "nbformat": 4,
 "nbformat_minor": 2,
 "cells": [
  {
   "cell_type": "code",
   "execution_count": 1,
   "metadata": {},
   "outputs": [],
   "source": [
    "import pandas as pd"
   ]
  },
  {
   "cell_type": "code",
   "execution_count": 2,
   "metadata": {},
   "outputs": [
    {
     "output_type": "stream",
     "name": "stdout",
     "text": [
      "/home/primefactorx01/lambda/labs/labspt15-cityspire-g-ds\n"
     ]
    }
   ],
   "source": [
    "!pwd"
   ]
  },
  {
   "cell_type": "code",
   "execution_count": 3,
   "metadata": {},
   "outputs": [],
   "source": [
    "from pathlib import Path"
   ]
  },
  {
   "cell_type": "code",
   "execution_count": 6,
   "metadata": {},
   "outputs": [],
   "source": [
    "path = Path('notebooks/labor_statistics/bls.csv')"
   ]
  },
  {
   "cell_type": "code",
   "execution_count": 25,
   "metadata": {},
   "outputs": [],
   "source": [
    "dataf = pd.read_csv(path)"
   ]
  },
  {
   "cell_type": "code",
   "execution_count": 49,
   "metadata": {},
   "outputs": [],
   "source": [
    "path = Path('notebooks/labor_statistics/bls.csv')\n",
    "dataf = pd.read_csv(path)\n",
    "\n",
    "def start_pipe(df):\n",
    "    return df.copy()\n",
    "\n",
    "def split_combo_states(df):\n",
    "    working_df = df\n",
    "    working_df.loc[dataf['occ_title'].str.contains('All Occupations') & dataf['state'].str.contains('-'), 'state'] = working_df.loc[dataf['occ_title'].str.contains('All Occupations') & dataf['state'].str.contains('-'), 'state'].str.split('-')\n",
    "    working_df = working_df.loc[dataf['occ_title'].str.contains('All Occupations') & dataf['state']].explode('state')\n",
    "    return working_df\n",
    "\n",
    "def split_combo_cities(df):\n",
    "    working_df = df\n",
    "    working_df.loc[dataf['occ_title'].str.contains('All Occupations') & dataf['city'].str.contains('-'), 'city'] = working_df.loc[dataf['occ_title'].str.contains('All Occupations') & dataf['city'].str.contains('-'), 'city'].str.split('-')\n",
    "    working_df = working_df.loc[dataf['occ_title'].str.contains('All Occupations') & dataf['city']].explode('city')\n",
    "    return working_df\n",
    "\n",
    "write_path = Path(\"notebooks/labor_statistics/split_labor.csv\")\n",
    "dataf.pipe(start_pipe).pipe(split_combo_states).pipe(split_combo_cities).to_csv(write_path)"
   ]
  },
  {
   "cell_type": "code",
   "execution_count": 42,
   "metadata": {},
   "outputs": [
    {
     "output_type": "execute_result",
     "data": {
      "text/plain": [
       "        Unnamed: 0 state               city        occ_title  jobs_1000  \\\n",
       "0                0    TX            Abilene  All Occupations     1000.0   \n",
       "286            286    PR  Aguadilla-Isabela  All Occupations     1000.0   \n",
       "467            467    OH              Akron  All Occupations     1000.0   \n",
       "979            979    GA             Albany  All Occupations     1000.0   \n",
       "1217          1217    OR             Albany  All Occupations     1000.0   \n",
       "...            ...   ...                ...              ...        ...   \n",
       "141113      141113    MA        Springfield  All Occupations     1000.0   \n",
       "141113      141113    CT        Springfield  All Occupations     1000.0   \n",
       "141642      141642    CT          Waterbury  All Occupations     1000.0   \n",
       "141921      141921    MA          Worcester  All Occupations     1000.0   \n",
       "141921      141921    CT          Worcester  All Occupations     1000.0   \n",
       "\n",
       "        loc_quotient  avg_hourly_salary  avg_annual_salary  \n",
       "0                1.0              20.08            41760.0  \n",
       "286              1.0              12.48            25960.0  \n",
       "467              1.0              23.75            49400.0  \n",
       "979              1.0              20.50            42640.0  \n",
       "1217             1.0              22.80            47410.0  \n",
       "...              ...                ...                ...  \n",
       "141113           1.0              25.74            53550.0  \n",
       "141113           1.0              25.74            53550.0  \n",
       "141642           1.0              25.65            53350.0  \n",
       "141921           1.0              26.98            56110.0  \n",
       "141921           1.0              26.98            56110.0  \n",
       "\n",
       "[457 rows x 8 columns]"
      ],
      "text/html": "<div>\n<style scoped>\n    .dataframe tbody tr th:only-of-type {\n        vertical-align: middle;\n    }\n\n    .dataframe tbody tr th {\n        vertical-align: top;\n    }\n\n    .dataframe thead th {\n        text-align: right;\n    }\n</style>\n<table border=\"1\" class=\"dataframe\">\n  <thead>\n    <tr style=\"text-align: right;\">\n      <th></th>\n      <th>Unnamed: 0</th>\n      <th>state</th>\n      <th>city</th>\n      <th>occ_title</th>\n      <th>jobs_1000</th>\n      <th>loc_quotient</th>\n      <th>avg_hourly_salary</th>\n      <th>avg_annual_salary</th>\n    </tr>\n  </thead>\n  <tbody>\n    <tr>\n      <th>0</th>\n      <td>0</td>\n      <td>TX</td>\n      <td>Abilene</td>\n      <td>All Occupations</td>\n      <td>1000.0</td>\n      <td>1.0</td>\n      <td>20.08</td>\n      <td>41760.0</td>\n    </tr>\n    <tr>\n      <th>286</th>\n      <td>286</td>\n      <td>PR</td>\n      <td>Aguadilla-Isabela</td>\n      <td>All Occupations</td>\n      <td>1000.0</td>\n      <td>1.0</td>\n      <td>12.48</td>\n      <td>25960.0</td>\n    </tr>\n    <tr>\n      <th>467</th>\n      <td>467</td>\n      <td>OH</td>\n      <td>Akron</td>\n      <td>All Occupations</td>\n      <td>1000.0</td>\n      <td>1.0</td>\n      <td>23.75</td>\n      <td>49400.0</td>\n    </tr>\n    <tr>\n      <th>979</th>\n      <td>979</td>\n      <td>GA</td>\n      <td>Albany</td>\n      <td>All Occupations</td>\n      <td>1000.0</td>\n      <td>1.0</td>\n      <td>20.50</td>\n      <td>42640.0</td>\n    </tr>\n    <tr>\n      <th>1217</th>\n      <td>1217</td>\n      <td>OR</td>\n      <td>Albany</td>\n      <td>All Occupations</td>\n      <td>1000.0</td>\n      <td>1.0</td>\n      <td>22.80</td>\n      <td>47410.0</td>\n    </tr>\n    <tr>\n      <th>...</th>\n      <td>...</td>\n      <td>...</td>\n      <td>...</td>\n      <td>...</td>\n      <td>...</td>\n      <td>...</td>\n      <td>...</td>\n      <td>...</td>\n    </tr>\n    <tr>\n      <th>141113</th>\n      <td>141113</td>\n      <td>MA</td>\n      <td>Springfield</td>\n      <td>All Occupations</td>\n      <td>1000.0</td>\n      <td>1.0</td>\n      <td>25.74</td>\n      <td>53550.0</td>\n    </tr>\n    <tr>\n      <th>141113</th>\n      <td>141113</td>\n      <td>CT</td>\n      <td>Springfield</td>\n      <td>All Occupations</td>\n      <td>1000.0</td>\n      <td>1.0</td>\n      <td>25.74</td>\n      <td>53550.0</td>\n    </tr>\n    <tr>\n      <th>141642</th>\n      <td>141642</td>\n      <td>CT</td>\n      <td>Waterbury</td>\n      <td>All Occupations</td>\n      <td>1000.0</td>\n      <td>1.0</td>\n      <td>25.65</td>\n      <td>53350.0</td>\n    </tr>\n    <tr>\n      <th>141921</th>\n      <td>141921</td>\n      <td>MA</td>\n      <td>Worcester</td>\n      <td>All Occupations</td>\n      <td>1000.0</td>\n      <td>1.0</td>\n      <td>26.98</td>\n      <td>56110.0</td>\n    </tr>\n    <tr>\n      <th>141921</th>\n      <td>141921</td>\n      <td>CT</td>\n      <td>Worcester</td>\n      <td>All Occupations</td>\n      <td>1000.0</td>\n      <td>1.0</td>\n      <td>26.98</td>\n      <td>56110.0</td>\n    </tr>\n  </tbody>\n</table>\n<p>457 rows × 8 columns</p>\n</div>"
     },
     "metadata": {},
     "execution_count": 42
    }
   ],
   "source": [
    "working_df = dataf.pipe(start_pipe)\n",
    "working_df.loc[dataf['occ_title'].str.contains('All Occupations') & dataf['state'].str.contains('-'), 'state'] = working_df.loc[dataf['occ_title'].str.contains('All Occupations') & dataf['state'].str.contains('-'), 'state'].str.split('-')\n",
    "working_df.loc[dataf['occ_title'].str.contains('All Occupations') & dataf['state']].explode('state')"
   ]
  },
  {
   "cell_type": "code",
   "execution_count": null,
   "metadata": {},
   "outputs": [],
   "source": []
  }
 ]
}