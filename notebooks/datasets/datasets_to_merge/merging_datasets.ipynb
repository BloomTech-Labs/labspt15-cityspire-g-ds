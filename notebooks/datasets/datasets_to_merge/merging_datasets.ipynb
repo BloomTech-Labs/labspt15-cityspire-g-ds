{
 "cells": [
  {
   "source": [
    "## MERGE"
   ],
   "cell_type": "markdown",
   "metadata": {}
  },
  {
   "cell_type": "code",
   "execution_count": 1,
   "metadata": {},
   "outputs": [],
   "source": [
    "import numpy as np\n",
    "import pandas as pd\n",
    "import os\n",
    "\n",
    "path = os.getcwd()"
   ]
  },
  {
   "cell_type": "code",
   "execution_count": 2,
   "metadata": {},
   "outputs": [],
   "source": [
    "df_census = pd.read_csv(os.path.join(path, 'csv/census_by_city.csv'))     # (25235, 35)\n",
    "df_crime = pd.read_csv(os.path.join(path, 'csv/fbi_crime_uscities.csv'))  # (8103, 16)\n",
    "df_rent = pd.read_csv(os.path.join(path, 'csv/rent_cleaned.csv'))         # (2831, 4)\n",
    "df_poll = pd.read_csv(os.path.join(path, 'csv/pollution_summary.csv'))    # (845, 20)\n",
    "df_lat_lon = pd.read_excel(os.path.join(path, 'csv/uscities.xlsx'))       # (28338, 17)"
   ]
  },
  {
   "cell_type": "code",
   "execution_count": 3,
   "metadata": {},
   "outputs": [],
   "source": [
    "# replace 'State_Id' in df_census so it matches the other columns\n",
    "df_census.rename(columns = {'State_Id':'State'}, inplace = True)\n",
    "df_lat_lon.rename(columns = {'state_id':'State','city': 'City'}, inplace = True)\n",
    "df_lat_lon = df_lat_lon[['City', 'State', 'lat', 'lng']]"
   ]
  },
  {
   "cell_type": "code",
   "execution_count": 4,
   "metadata": {},
   "outputs": [
    {
     "output_type": "stream",
     "name": "stdout",
     "text": [
      "Anchor Point\nAK\nAnchorage\nAK\nAleutians East\nAK\nAnchorage\nAK\nAdak\nAK\n"
     ]
    }
   ],
   "source": [
    "# put all the dfs in a list\n",
    "df_lst = [df_census, df_crime, df_rent, df_poll, df_lat_lon]\n",
    "\n",
    "# remove whitespace in all the dfs\n",
    "for x in df_lst:\n",
    "    x['City'] = x['City'].str.strip()\n",
    "    x['State'] = x['State'].str.strip()\n",
    "\n",
    "# make sure it worked    \n",
    "for x in df_lst:\n",
    "    print(x['City'][0])\n",
    "    print(x['State'][0])"
   ]
  },
  {
   "cell_type": "code",
   "execution_count": 5,
   "metadata": {
    "scrolled": false
   },
   "outputs": [
    {
     "output_type": "stream",
     "name": "stdout",
     "text": [
      "(6866, 49)\n(768, 51)\n(431, 69)\n(425, 71)\n"
     ]
    }
   ],
   "source": [
    "# merging the data and following its shape sequentially\n",
    "df_net = pd.merge(df_census, df_crime, on=['City', 'State'])\n",
    "print(df_net.shape)\n",
    "df_net2 = pd.merge(df_net, df_rent, on=['City', 'State'])\n",
    "print(df_net2.shape)\n",
    "df_net3 = pd.merge(df_net2, df_poll, on=['City', 'State'])\n",
    "print(df_net3.shape)\n",
    "df_net4 = pd.merge(df_net3, df_lat_lon, on=['City', 'State'])\n",
    "print(df_net4.shape)"
   ]
  },
  {
   "cell_type": "code",
   "execution_count": 6,
   "metadata": {},
   "outputs": [],
   "source": [
    "df_net4 = df_net4.drop_duplicates()"
   ]
  },
  {
   "source": [
    "## CLEANUP"
   ],
   "cell_type": "markdown",
   "metadata": {}
  },
  {
   "source": [
    "### Update Crime Ratings \n",
    "- comparison is across fewer cities. \n",
    "- run pd.qcut again"
   ],
   "cell_type": "markdown",
   "metadata": {}
  },
  {
   "cell_type": "code",
   "execution_count": 7,
   "metadata": {},
   "outputs": [
    {
     "output_type": "execute_result",
     "data": {
      "text/plain": [
       "High      330\n",
       "Medium     84\n",
       "Low         8\n",
       "Name: Crime Rating, dtype: int64"
      ]
     },
     "metadata": {},
     "execution_count": 7
    }
   ],
   "source": [
    "df_net4['Crime Rating'].value_counts()"
   ]
  },
  {
   "source": [
    "crime rating skews very high because after the merging there were only a little over 400 cities versus the 8000 cities reported in the FBI crime data. "
   ],
   "cell_type": "markdown",
   "metadata": {}
  },
  {
   "cell_type": "code",
   "execution_count": 8,
   "metadata": {},
   "outputs": [],
   "source": [
    "# dropping old crime rating column\n",
    "df_net4 = df_net4.drop(columns = ['Crime Rating'])"
   ]
  },
  {
   "cell_type": "code",
   "execution_count": 9,
   "metadata": {},
   "outputs": [],
   "source": [
    "# Create a new crime rating by using qcut() on the number of merged cities we have\n",
    "df_net4['Crime Rating'] = pd.qcut(df_net4['Crime Rate (per 1000 residents)'], q=3, labels=['Low', 'Medium', 'High'])"
   ]
  },
  {
   "cell_type": "code",
   "execution_count": 10,
   "metadata": {},
   "outputs": [
    {
     "output_type": "execute_result",
     "data": {
      "text/plain": [
       "High      141\n",
       "Low       141\n",
       "Medium    140\n",
       "Name: Crime Rating, dtype: int64"
      ]
     },
     "metadata": {},
     "execution_count": 10
    }
   ],
   "source": [
    "df_net4['Crime Rating'].value_counts()"
   ]
  },
  {
   "source": [
    "### Clean Columns"
   ],
   "cell_type": "markdown",
   "metadata": {}
  },
  {
   "cell_type": "code",
   "execution_count": 11,
   "metadata": {},
   "outputs": [],
   "source": [
    "col = [\"Poverty\", \"ChildPoverty\", \"Unemployment\", \"Professional\", \"Office\", \"Service\", \"Construction\", \"Production\"]\n",
    "df_net4[col] = df_net4[col].round(2)"
   ]
  },
  {
   "source": [
    "### Add an Index Column"
   ],
   "cell_type": "markdown",
   "metadata": {}
  },
  {
   "cell_type": "code",
   "execution_count": 12,
   "metadata": {},
   "outputs": [],
   "source": [
    "df_net4['Index'] = df_net4.index"
   ]
  },
  {
   "source": [
    "### Reorder Columns"
   ],
   "cell_type": "markdown",
   "metadata": {}
  },
  {
   "cell_type": "code",
   "execution_count": 13,
   "metadata": {},
   "outputs": [
    {
     "output_type": "execute_result",
     "data": {
      "text/plain": [
       "Index(['City', 'State', 'TotalPop', 'Men', 'Women', 'Hispanic', 'White',\n",
       "       'Black', 'Native', 'Asian', 'Pacific', 'Income', 'IncomeErr',\n",
       "       'IncomePerCap', 'IncomePerCapErr', 'Poverty', 'ChildPoverty',\n",
       "       'Employed', 'Unemployment', 'PrivateWork', 'PublicWork', 'SelfEmployed',\n",
       "       'FamilyWork', 'Professional', 'Service', 'Office', 'Construction',\n",
       "       'Production', 'Drive', 'Carpool', 'Transit', 'Walk', 'OtherTransp',\n",
       "       'WorkAtHome', 'MeanCommute', 'Unnamed: 0_x', 'Population',\n",
       "       'Violent crime', 'Murder and nonnegligent manslaughter', 'Rape',\n",
       "       'Robbery', 'Aggravated assault', 'Property crime', 'Burglary',\n",
       "       'Larceny- theft', 'Motor vehicle theft', 'Arson',\n",
       "       'Crime Rate (per 1000 residents)', 'Unnamed: 0_y', 'Rent', 'Year',\n",
       "       'Days with AQI', 'Good Days', 'Moderate Days',\n",
       "       'Unhealthy for Sensitive Groups Days', 'Unhealthy Days',\n",
       "       'Very Unhealthy Days', 'Hazardous Days', 'Max AQI',\n",
       "       '90th Percentile AQI', 'Median AQI', 'Days CO', 'Days NO2',\n",
       "       'Days Ozone', 'Days SO2', 'Days PM2.5', 'Days PM10', 'Level of Concern',\n",
       "       'lat', 'lng', 'Crime Rating', 'Index'],\n",
       "      dtype='object')"
      ]
     },
     "metadata": {},
     "execution_count": 13
    }
   ],
   "source": [
    "df_net4.columns"
   ]
  },
  {
   "cell_type": "code",
   "execution_count": 14,
   "metadata": {},
   "outputs": [],
   "source": [
    "df_net4 = df_net4[[ \n",
    "    'Index',\n",
    "    'City', 'State', \n",
    "    'lat', 'lng',\n",
    "    'TotalPop', 'Men', 'Women', 'Hispanic', 'White',\n",
    "    'Black', 'Native', 'Asian', 'Pacific', 'Income', 'IncomeErr','IncomePerCap', \n",
    "    'IncomePerCapErr', 'Poverty', 'ChildPoverty', 'Employed', 'Unemployment', \n",
    "    'PrivateWork', 'PublicWork', 'SelfEmployed', 'FamilyWork', 'Professional', \n",
    "    'Service', 'Office', 'Construction', 'Production', 'Drive', 'Carpool', \n",
    "    'Transit', 'Walk', 'OtherTransp', 'WorkAtHome', 'MeanCommute', \n",
    "    'Rent', 'Year',\n",
    "    'Population','Violent crime', 'Murder and nonnegligent manslaughter', 'Rape',\n",
    "    'Robbery', 'Aggravated assault', 'Property crime', 'Burglary','Larceny- theft', \n",
    "    'Motor vehicle theft', 'Arson', 'Crime Rate (per 1000 residents)', 'Crime Rating',\n",
    "    'Days with AQI', 'Good Days', 'Moderate Days', 'Unhealthy for Sensitive Groups Days', \n",
    "    'Unhealthy Days', 'Very Unhealthy Days', 'Hazardous Days', 'Max AQI', \n",
    "    '90th Percentile AQI', 'Median AQI', 'Days CO', 'Days NO2', 'Days Ozone', 'Days SO2', \n",
    "    'Days PM2.5', 'Days PM10', 'Level of Concern',\n",
    "    ]]"
   ]
  },
  {
   "cell_type": "code",
   "execution_count": 15,
   "metadata": {},
   "outputs": [],
   "source": [
    "df_net4.rename(columns = {'Level of Concern':'Air Quality Index'}, inplace = True)"
   ]
  },
  {
   "cell_type": "code",
   "execution_count": 16,
   "metadata": {},
   "outputs": [],
   "source": [
    "pd.set_option('display.max_columns', None)"
   ]
  },
  {
   "cell_type": "code",
   "execution_count": 17,
   "metadata": {},
   "outputs": [
    {
     "output_type": "execute_result",
     "data": {
      "text/plain": [
       "   Index       City State      lat       lng  TotalPop     Men   Women  \\\n",
       "0      0  Anchorage    AK  61.1508 -149.1091    223042  113049  109977   \n",
       "1      1  Fairbanks    AK  64.8353 -147.6534     60751   32406   28341   \n",
       "2      2     Juneau    AK  58.4546 -134.1739     30216   15465   14750   \n",
       "3      3     Conway    AR  35.0754  -92.4694     82431   40485   41936   \n",
       "4      4     Conway    AR  35.0754  -92.4694     82431   40485   41936   \n",
       "\n",
       "   Hispanic  White  Black  Native  Asian  Pacific   Income  IncomeErr  \\\n",
       "0       8.0   55.6    5.4     8.0    9.6      2.8  57115.2     7787.0   \n",
       "1       5.5   71.2    3.2     6.9    2.8      0.6  41438.3     7688.9   \n",
       "2       6.4   66.5    1.0    10.3    6.7      0.9  82937.5    10107.0   \n",
       "3       5.1   76.2   14.9     0.3    1.1      0.2  30933.4     5323.4   \n",
       "4       5.1   76.2   14.9     0.3    1.1      0.2  30933.4     5323.4   \n",
       "\n",
       "   IncomePerCap  IncomePerCapErr  Poverty  ChildPoverty  Employed  \\\n",
       "0       26841.7           3621.2    586.0         790.2    118993   \n",
       "1       20210.8           2646.6    170.9         198.2     30492   \n",
       "2       39731.2           4833.0     46.9          76.4     16669   \n",
       "3       15551.0           2698.9    502.4         566.6     40133   \n",
       "4       15551.0           2698.9    502.4         566.6     40133   \n",
       "\n",
       "   Unemployment  PrivateWork  PublicWork  SelfEmployed  FamilyWork  \\\n",
       "0         371.9         73.5        19.5           5.3         0.1   \n",
       "1         163.9         63.5        26.4           4.1         0.1   \n",
       "2          27.0         52.3        38.7           8.9         0.1   \n",
       "3         150.3         79.0        14.9           5.5         0.1   \n",
       "4         150.3         79.0        14.9           5.5         0.1   \n",
       "\n",
       "   Professional  Service  Office  Construction  Production  Drive  Carpool  \\\n",
       "0        2434.4   1122.2  1508.9         461.0       571.5   74.3     10.9   \n",
       "1         708.2    323.1   462.2         256.9       211.9   75.3     11.8   \n",
       "2         282.1     88.0   122.8          63.2        43.8   64.3     14.6   \n",
       "3         903.9    512.9   666.6         277.2       314.3   80.7     10.2   \n",
       "4         903.9    512.9   666.6         277.2       314.3   80.7     10.2   \n",
       "\n",
       "   Transit  Walk  OtherTransp  WorkAtHome  MeanCommute  Rent  Year  \\\n",
       "0      2.2   3.3          3.7         3.8         17.1  1303  2020   \n",
       "1      0.9   4.1          2.7         3.3         16.5  1380  2020   \n",
       "2      5.0   9.1          2.5         4.5         15.3  1486  2020   \n",
       "3      0.1   2.8          2.1         3.4         22.0   898  2020   \n",
       "4      0.1   2.8          2.1         3.4         22.0   703  2020   \n",
       "\n",
       "   Population  Violent crime  Murder and nonnegligent manslaughter  Rape  \\\n",
       "0      287731           3581                                    32   540   \n",
       "1       31493            247                                     3    33   \n",
       "2       31810            289                                     3    24   \n",
       "3       67336            324                                     2    49   \n",
       "4       67336            324                                     2    49   \n",
       "\n",
       "   Robbery  Aggravated assault  Property crime  Burglary  Larceny- theft  \\\n",
       "0      621                2388           12261      1692            9038   \n",
       "1       52                 159            1353       163            1006   \n",
       "2       45                 217            1292       187            1012   \n",
       "3       51                 222            1842       177            1567   \n",
       "4       51                 222            1842       177            1567   \n",
       "\n",
       "   Motor vehicle theft  Arson  Crime Rate (per 1000 residents) Crime Rating  \\\n",
       "0                 1531     93                            55.06         High   \n",
       "1                  184     23                            50.80         High   \n",
       "2                   93     16                            49.70         High   \n",
       "3                   98      8                            32.17       Medium   \n",
       "4                   98      8                            32.17       Medium   \n",
       "\n",
       "   Days with AQI  Good Days  Moderate Days  \\\n",
       "0            183        158             24   \n",
       "1            183        132             41   \n",
       "2            177        174              3   \n",
       "3            275        207             66   \n",
       "4            275        207             66   \n",
       "\n",
       "   Unhealthy for Sensitive Groups Days  Unhealthy Days  Very Unhealthy Days  \\\n",
       "0                                    1               0                    0   \n",
       "1                                    3               7                    0   \n",
       "2                                    0               0                    0   \n",
       "3                                    2               0                    0   \n",
       "4                                    2               0                    0   \n",
       "\n",
       "   Hazardous Days  Max AQI  90th Percentile AQI  Median AQI  Days CO  \\\n",
       "0               0      103                   57          26        4   \n",
       "1               0      167                   89          35        1   \n",
       "2               0       66                   35          13        0   \n",
       "3               0      132                   59          42        1   \n",
       "4               0      132                   59          42        1   \n",
       "\n",
       "   Days NO2  Days Ozone  Days SO2  Days PM2.5  Days PM10 Air Quality Index  \n",
       "0         0           0         0         110         69              Good  \n",
       "1         0          81         1          97          3              Good  \n",
       "2         0           0         0         161         16              Good  \n",
       "3         4         138         0         132          0              Good  \n",
       "4         4         138         0         132          0              Good  "
      ],
      "text/html": "<div>\n<style scoped>\n    .dataframe tbody tr th:only-of-type {\n        vertical-align: middle;\n    }\n\n    .dataframe tbody tr th {\n        vertical-align: top;\n    }\n\n    .dataframe thead th {\n        text-align: right;\n    }\n</style>\n<table border=\"1\" class=\"dataframe\">\n  <thead>\n    <tr style=\"text-align: right;\">\n      <th></th>\n      <th>Index</th>\n      <th>City</th>\n      <th>State</th>\n      <th>lat</th>\n      <th>lng</th>\n      <th>TotalPop</th>\n      <th>Men</th>\n      <th>Women</th>\n      <th>Hispanic</th>\n      <th>White</th>\n      <th>Black</th>\n      <th>Native</th>\n      <th>Asian</th>\n      <th>Pacific</th>\n      <th>Income</th>\n      <th>IncomeErr</th>\n      <th>IncomePerCap</th>\n      <th>IncomePerCapErr</th>\n      <th>Poverty</th>\n      <th>ChildPoverty</th>\n      <th>Employed</th>\n      <th>Unemployment</th>\n      <th>PrivateWork</th>\n      <th>PublicWork</th>\n      <th>SelfEmployed</th>\n      <th>FamilyWork</th>\n      <th>Professional</th>\n      <th>Service</th>\n      <th>Office</th>\n      <th>Construction</th>\n      <th>Production</th>\n      <th>Drive</th>\n      <th>Carpool</th>\n      <th>Transit</th>\n      <th>Walk</th>\n      <th>OtherTransp</th>\n      <th>WorkAtHome</th>\n      <th>MeanCommute</th>\n      <th>Rent</th>\n      <th>Year</th>\n      <th>Population</th>\n      <th>Violent crime</th>\n      <th>Murder and nonnegligent manslaughter</th>\n      <th>Rape</th>\n      <th>Robbery</th>\n      <th>Aggravated assault</th>\n      <th>Property crime</th>\n      <th>Burglary</th>\n      <th>Larceny- theft</th>\n      <th>Motor vehicle theft</th>\n      <th>Arson</th>\n      <th>Crime Rate (per 1000 residents)</th>\n      <th>Crime Rating</th>\n      <th>Days with AQI</th>\n      <th>Good Days</th>\n      <th>Moderate Days</th>\n      <th>Unhealthy for Sensitive Groups Days</th>\n      <th>Unhealthy Days</th>\n      <th>Very Unhealthy Days</th>\n      <th>Hazardous Days</th>\n      <th>Max AQI</th>\n      <th>90th Percentile AQI</th>\n      <th>Median AQI</th>\n      <th>Days CO</th>\n      <th>Days NO2</th>\n      <th>Days Ozone</th>\n      <th>Days SO2</th>\n      <th>Days PM2.5</th>\n      <th>Days PM10</th>\n      <th>Air Quality Index</th>\n    </tr>\n  </thead>\n  <tbody>\n    <tr>\n      <th>0</th>\n      <td>0</td>\n      <td>Anchorage</td>\n      <td>AK</td>\n      <td>61.1508</td>\n      <td>-149.1091</td>\n      <td>223042</td>\n      <td>113049</td>\n      <td>109977</td>\n      <td>8.0</td>\n      <td>55.6</td>\n      <td>5.4</td>\n      <td>8.0</td>\n      <td>9.6</td>\n      <td>2.8</td>\n      <td>57115.2</td>\n      <td>7787.0</td>\n      <td>26841.7</td>\n      <td>3621.2</td>\n      <td>586.0</td>\n      <td>790.2</td>\n      <td>118993</td>\n      <td>371.9</td>\n      <td>73.5</td>\n      <td>19.5</td>\n      <td>5.3</td>\n      <td>0.1</td>\n      <td>2434.4</td>\n      <td>1122.2</td>\n      <td>1508.9</td>\n      <td>461.0</td>\n      <td>571.5</td>\n      <td>74.3</td>\n      <td>10.9</td>\n      <td>2.2</td>\n      <td>3.3</td>\n      <td>3.7</td>\n      <td>3.8</td>\n      <td>17.1</td>\n      <td>1303</td>\n      <td>2020</td>\n      <td>287731</td>\n      <td>3581</td>\n      <td>32</td>\n      <td>540</td>\n      <td>621</td>\n      <td>2388</td>\n      <td>12261</td>\n      <td>1692</td>\n      <td>9038</td>\n      <td>1531</td>\n      <td>93</td>\n      <td>55.06</td>\n      <td>High</td>\n      <td>183</td>\n      <td>158</td>\n      <td>24</td>\n      <td>1</td>\n      <td>0</td>\n      <td>0</td>\n      <td>0</td>\n      <td>103</td>\n      <td>57</td>\n      <td>26</td>\n      <td>4</td>\n      <td>0</td>\n      <td>0</td>\n      <td>0</td>\n      <td>110</td>\n      <td>69</td>\n      <td>Good</td>\n    </tr>\n    <tr>\n      <th>1</th>\n      <td>1</td>\n      <td>Fairbanks</td>\n      <td>AK</td>\n      <td>64.8353</td>\n      <td>-147.6534</td>\n      <td>60751</td>\n      <td>32406</td>\n      <td>28341</td>\n      <td>5.5</td>\n      <td>71.2</td>\n      <td>3.2</td>\n      <td>6.9</td>\n      <td>2.8</td>\n      <td>0.6</td>\n      <td>41438.3</td>\n      <td>7688.9</td>\n      <td>20210.8</td>\n      <td>2646.6</td>\n      <td>170.9</td>\n      <td>198.2</td>\n      <td>30492</td>\n      <td>163.9</td>\n      <td>63.5</td>\n      <td>26.4</td>\n      <td>4.1</td>\n      <td>0.1</td>\n      <td>708.2</td>\n      <td>323.1</td>\n      <td>462.2</td>\n      <td>256.9</td>\n      <td>211.9</td>\n      <td>75.3</td>\n      <td>11.8</td>\n      <td>0.9</td>\n      <td>4.1</td>\n      <td>2.7</td>\n      <td>3.3</td>\n      <td>16.5</td>\n      <td>1380</td>\n      <td>2020</td>\n      <td>31493</td>\n      <td>247</td>\n      <td>3</td>\n      <td>33</td>\n      <td>52</td>\n      <td>159</td>\n      <td>1353</td>\n      <td>163</td>\n      <td>1006</td>\n      <td>184</td>\n      <td>23</td>\n      <td>50.80</td>\n      <td>High</td>\n      <td>183</td>\n      <td>132</td>\n      <td>41</td>\n      <td>3</td>\n      <td>7</td>\n      <td>0</td>\n      <td>0</td>\n      <td>167</td>\n      <td>89</td>\n      <td>35</td>\n      <td>1</td>\n      <td>0</td>\n      <td>81</td>\n      <td>1</td>\n      <td>97</td>\n      <td>3</td>\n      <td>Good</td>\n    </tr>\n    <tr>\n      <th>2</th>\n      <td>2</td>\n      <td>Juneau</td>\n      <td>AK</td>\n      <td>58.4546</td>\n      <td>-134.1739</td>\n      <td>30216</td>\n      <td>15465</td>\n      <td>14750</td>\n      <td>6.4</td>\n      <td>66.5</td>\n      <td>1.0</td>\n      <td>10.3</td>\n      <td>6.7</td>\n      <td>0.9</td>\n      <td>82937.5</td>\n      <td>10107.0</td>\n      <td>39731.2</td>\n      <td>4833.0</td>\n      <td>46.9</td>\n      <td>76.4</td>\n      <td>16669</td>\n      <td>27.0</td>\n      <td>52.3</td>\n      <td>38.7</td>\n      <td>8.9</td>\n      <td>0.1</td>\n      <td>282.1</td>\n      <td>88.0</td>\n      <td>122.8</td>\n      <td>63.2</td>\n      <td>43.8</td>\n      <td>64.3</td>\n      <td>14.6</td>\n      <td>5.0</td>\n      <td>9.1</td>\n      <td>2.5</td>\n      <td>4.5</td>\n      <td>15.3</td>\n      <td>1486</td>\n      <td>2020</td>\n      <td>31810</td>\n      <td>289</td>\n      <td>3</td>\n      <td>24</td>\n      <td>45</td>\n      <td>217</td>\n      <td>1292</td>\n      <td>187</td>\n      <td>1012</td>\n      <td>93</td>\n      <td>16</td>\n      <td>49.70</td>\n      <td>High</td>\n      <td>177</td>\n      <td>174</td>\n      <td>3</td>\n      <td>0</td>\n      <td>0</td>\n      <td>0</td>\n      <td>0</td>\n      <td>66</td>\n      <td>35</td>\n      <td>13</td>\n      <td>0</td>\n      <td>0</td>\n      <td>0</td>\n      <td>0</td>\n      <td>161</td>\n      <td>16</td>\n      <td>Good</td>\n    </tr>\n    <tr>\n      <th>3</th>\n      <td>3</td>\n      <td>Conway</td>\n      <td>AR</td>\n      <td>35.0754</td>\n      <td>-92.4694</td>\n      <td>82431</td>\n      <td>40485</td>\n      <td>41936</td>\n      <td>5.1</td>\n      <td>76.2</td>\n      <td>14.9</td>\n      <td>0.3</td>\n      <td>1.1</td>\n      <td>0.2</td>\n      <td>30933.4</td>\n      <td>5323.4</td>\n      <td>15551.0</td>\n      <td>2698.9</td>\n      <td>502.4</td>\n      <td>566.6</td>\n      <td>40133</td>\n      <td>150.3</td>\n      <td>79.0</td>\n      <td>14.9</td>\n      <td>5.5</td>\n      <td>0.1</td>\n      <td>903.9</td>\n      <td>512.9</td>\n      <td>666.6</td>\n      <td>277.2</td>\n      <td>314.3</td>\n      <td>80.7</td>\n      <td>10.2</td>\n      <td>0.1</td>\n      <td>2.8</td>\n      <td>2.1</td>\n      <td>3.4</td>\n      <td>22.0</td>\n      <td>898</td>\n      <td>2020</td>\n      <td>67336</td>\n      <td>324</td>\n      <td>2</td>\n      <td>49</td>\n      <td>51</td>\n      <td>222</td>\n      <td>1842</td>\n      <td>177</td>\n      <td>1567</td>\n      <td>98</td>\n      <td>8</td>\n      <td>32.17</td>\n      <td>Medium</td>\n      <td>275</td>\n      <td>207</td>\n      <td>66</td>\n      <td>2</td>\n      <td>0</td>\n      <td>0</td>\n      <td>0</td>\n      <td>132</td>\n      <td>59</td>\n      <td>42</td>\n      <td>1</td>\n      <td>4</td>\n      <td>138</td>\n      <td>0</td>\n      <td>132</td>\n      <td>0</td>\n      <td>Good</td>\n    </tr>\n    <tr>\n      <th>4</th>\n      <td>4</td>\n      <td>Conway</td>\n      <td>AR</td>\n      <td>35.0754</td>\n      <td>-92.4694</td>\n      <td>82431</td>\n      <td>40485</td>\n      <td>41936</td>\n      <td>5.1</td>\n      <td>76.2</td>\n      <td>14.9</td>\n      <td>0.3</td>\n      <td>1.1</td>\n      <td>0.2</td>\n      <td>30933.4</td>\n      <td>5323.4</td>\n      <td>15551.0</td>\n      <td>2698.9</td>\n      <td>502.4</td>\n      <td>566.6</td>\n      <td>40133</td>\n      <td>150.3</td>\n      <td>79.0</td>\n      <td>14.9</td>\n      <td>5.5</td>\n      <td>0.1</td>\n      <td>903.9</td>\n      <td>512.9</td>\n      <td>666.6</td>\n      <td>277.2</td>\n      <td>314.3</td>\n      <td>80.7</td>\n      <td>10.2</td>\n      <td>0.1</td>\n      <td>2.8</td>\n      <td>2.1</td>\n      <td>3.4</td>\n      <td>22.0</td>\n      <td>703</td>\n      <td>2020</td>\n      <td>67336</td>\n      <td>324</td>\n      <td>2</td>\n      <td>49</td>\n      <td>51</td>\n      <td>222</td>\n      <td>1842</td>\n      <td>177</td>\n      <td>1567</td>\n      <td>98</td>\n      <td>8</td>\n      <td>32.17</td>\n      <td>Medium</td>\n      <td>275</td>\n      <td>207</td>\n      <td>66</td>\n      <td>2</td>\n      <td>0</td>\n      <td>0</td>\n      <td>0</td>\n      <td>132</td>\n      <td>59</td>\n      <td>42</td>\n      <td>1</td>\n      <td>4</td>\n      <td>138</td>\n      <td>0</td>\n      <td>132</td>\n      <td>0</td>\n      <td>Good</td>\n    </tr>\n  </tbody>\n</table>\n</div>"
     },
     "metadata": {},
     "execution_count": 17
    }
   ],
   "source": [
    "df_net4.head()"
   ]
  },
  {
   "cell_type": "code",
   "execution_count": 18,
   "metadata": {},
   "outputs": [],
   "source": [
    "# extract the merged df as a .csv\n",
    "df_net4.to_csv('merged.csv', index = False) "
   ]
  }
 ],
 "metadata": {
  "kernelspec": {
   "display_name": "Python 3",
   "language": "python",
   "name": "python3"
  },
  "language_info": {
   "codemirror_mode": {
    "name": "ipython",
    "version": 3
   },
   "file_extension": ".py",
   "mimetype": "text/x-python",
   "name": "python",
   "nbconvert_exporter": "python",
   "pygments_lexer": "ipython3",
   "version": "3.8.6-final"
  }
 },
 "nbformat": 4,
 "nbformat_minor": 4
}