{
 "metadata": {
  "language_info": {
   "codemirror_mode": {
    "name": "ipython",
    "version": 3
   },
   "file_extension": ".py",
   "mimetype": "text/x-python",
   "name": "python",
   "nbconvert_exporter": "python",
   "pygments_lexer": "ipython3",
   "version": "3.8.6-final"
  },
  "orig_nbformat": 2,
  "kernelspec": {
   "name": "python3",
   "display_name": "Python 3.8.6 64-bit ('3.8.6')",
   "metadata": {
    "interpreter": {
     "hash": "2419ad2920cdc1fadb8f0ae6c1b14e969f8d411f4ecfa904fb0f4ff9d9e2f541"
    }
   }
  }
 },
 "nbformat": 4,
 "nbformat_minor": 2,
 "cells": [
  {
   "cell_type": "code",
   "execution_count": 1,
   "metadata": {},
   "outputs": [],
   "source": [
    "import pandas as pd\n",
    "import numpy as np"
   ]
  },
  {
   "cell_type": "code",
   "execution_count": 2,
   "metadata": {},
   "outputs": [],
   "source": [
    "lat_lon = pd.read_csv('https://raw.githubusercontent.com/kelvins/US-Cities-Database/main/csv/us_cities.csv')"
   ]
  },
  {
   "cell_type": "code",
   "execution_count": 5,
   "metadata": {},
   "outputs": [],
   "source": [
    "lat_lon.to_csv('lat_lon.csv', index=False)"
   ]
  },
  {
   "cell_type": "code",
   "execution_count": 3,
   "metadata": {},
   "outputs": [
    {
     "output_type": "stream",
     "name": "stdout",
     "text": [
      "(29880, 7)\n"
     ]
    },
    {
     "output_type": "execute_result",
     "data": {
      "text/plain": [
       "   ID STATE_CODE STATE_NAME      CITY          COUNTY   LATITUDE   LONGITUDE\n",
       "0   1         AK     Alaska      Adak  Aleutians West  55.999722 -161.207778\n",
       "1   2         AK     Alaska  Akiachak          Bethel  60.891854 -161.392330\n",
       "2   3         AK     Alaska     Akiak          Bethel  60.890632 -161.199325\n",
       "3   4         AK     Alaska    Akutan  Aleutians East  54.143012 -165.785368\n",
       "4   5         AK     Alaska  Alakanuk    Wade Hampton  62.746967 -164.602280"
      ],
      "text/html": "<div>\n<style scoped>\n    .dataframe tbody tr th:only-of-type {\n        vertical-align: middle;\n    }\n\n    .dataframe tbody tr th {\n        vertical-align: top;\n    }\n\n    .dataframe thead th {\n        text-align: right;\n    }\n</style>\n<table border=\"1\" class=\"dataframe\">\n  <thead>\n    <tr style=\"text-align: right;\">\n      <th></th>\n      <th>ID</th>\n      <th>STATE_CODE</th>\n      <th>STATE_NAME</th>\n      <th>CITY</th>\n      <th>COUNTY</th>\n      <th>LATITUDE</th>\n      <th>LONGITUDE</th>\n    </tr>\n  </thead>\n  <tbody>\n    <tr>\n      <th>0</th>\n      <td>1</td>\n      <td>AK</td>\n      <td>Alaska</td>\n      <td>Adak</td>\n      <td>Aleutians West</td>\n      <td>55.999722</td>\n      <td>-161.207778</td>\n    </tr>\n    <tr>\n      <th>1</th>\n      <td>2</td>\n      <td>AK</td>\n      <td>Alaska</td>\n      <td>Akiachak</td>\n      <td>Bethel</td>\n      <td>60.891854</td>\n      <td>-161.392330</td>\n    </tr>\n    <tr>\n      <th>2</th>\n      <td>3</td>\n      <td>AK</td>\n      <td>Alaska</td>\n      <td>Akiak</td>\n      <td>Bethel</td>\n      <td>60.890632</td>\n      <td>-161.199325</td>\n    </tr>\n    <tr>\n      <th>3</th>\n      <td>4</td>\n      <td>AK</td>\n      <td>Alaska</td>\n      <td>Akutan</td>\n      <td>Aleutians East</td>\n      <td>54.143012</td>\n      <td>-165.785368</td>\n    </tr>\n    <tr>\n      <th>4</th>\n      <td>5</td>\n      <td>AK</td>\n      <td>Alaska</td>\n      <td>Alakanuk</td>\n      <td>Wade Hampton</td>\n      <td>62.746967</td>\n      <td>-164.602280</td>\n    </tr>\n  </tbody>\n</table>\n</div>"
     },
     "metadata": {},
     "execution_count": 3
    }
   ],
   "source": [
    "print(lat_lon.shape)\n",
    "lat_lon.head()"
   ]
  },
  {
   "cell_type": "code",
   "execution_count": 4,
   "metadata": {},
   "outputs": [],
   "source": [
    "import os\n",
    "path = os.getcwd()"
   ]
  },
  {
   "cell_type": "code",
   "execution_count": null,
   "metadata": {},
   "outputs": [],
   "source": [
    "import "
   ]
  },
  {
   "cell_type": "code",
   "execution_count": null,
   "metadata": {},
   "outputs": [],
   "source": [
    "nn_model = "
   ]
  }
 ]
}