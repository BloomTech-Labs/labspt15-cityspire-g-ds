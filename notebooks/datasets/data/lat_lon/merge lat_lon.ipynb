{
 "metadata": {
  "language_info": {
   "codemirror_mode": {
    "name": "ipython",
    "version": 3
   },
   "file_extension": ".py",
   "mimetype": "text/x-python",
   "name": "python",
   "nbconvert_exporter": "python",
   "pygments_lexer": "ipython3",
   "version": "3.8.7-final"
  },
  "orig_nbformat": 2,
  "kernelspec": {
   "name": "python38764bitvenvvenv519d74b5c1cf42cc8042e0d0f7cb4d2e",
   "display_name": "Python 3.8.7 64-bit ('.venv': venv)",
   "language": "python"
  }
 },
 "nbformat": 4,
 "nbformat_minor": 2,
 "cells": [
  {
   "cell_type": "code",
   "execution_count": 1,
   "metadata": {},
   "outputs": [],
   "source": [
    "import os\n",
    "from dotenv import load_dotenv\n",
    "import pandas as pd\n",
    "import sqlalchemy"
   ]
  },
  {
   "cell_type": "code",
   "execution_count": 3,
   "metadata": {},
   "outputs": [],
   "source": [
    "engine = sqlalchemy.create_engine(os.getenv(\"DATABASE_URL\"))"
   ]
  },
  {
   "cell_type": "code",
   "execution_count": 4,
   "metadata": {},
   "outputs": [
    {
     "output_type": "stream",
     "name": "stdout",
     "text": [
      "/home/primefactorx01/lambda/labs/labspt15-cityspire-g-ds\n"
     ]
    }
   ],
   "source": [
    "!pwd"
   ]
  },
  {
   "cell_type": "code",
   "execution_count": 6,
   "metadata": {},
   "outputs": [],
   "source": [
    "df = pd.read_csv('datasets_to_merge/four_merged.csv')"
   ]
  },
  {
   "cell_type": "code",
   "execution_count": 8,
   "metadata": {},
   "outputs": [],
   "source": [
    "df.to_sql(\"data\", con=engine)"
   ]
  },
  {
   "cell_type": "code",
   "execution_count": 9,
   "metadata": {},
   "outputs": [
    {
     "output_type": "execute_result",
     "data": {
      "text/plain": [
       "     index         City State  TotalPop     Men   Women  Hispanic  White  \\\n",
       "0        0        Akron    OH    267774  129620  138083       1.9   64.2   \n",
       "1        1       Albany    GA     93421   43571   49835       3.2   36.6   \n",
       "2        2       Albany    NY    147794   70664   77096       7.1   58.3   \n",
       "3        3       Albany    OR     61555   30378   31168      10.4   81.7   \n",
       "4        4  Albuquerque    NM    632237  309415  322758      46.8   41.0   \n",
       "..     ...          ...   ...       ...     ...     ...       ...    ...   \n",
       "371    371    Worcester    MA    183628   89977   93611      21.5   57.6   \n",
       "372    372      Wyoming    MI     56377   27516   28855      26.3   57.4   \n",
       "373    373       Yakima    WA    125035   61639   63374      35.5   57.6   \n",
       "374    374    Yuba City    CA     75848   37647   38198      26.4   50.5   \n",
       "375    375         Yuma    AZ    142402   73123   69270      48.6   44.6   \n",
       "\n",
       "     Black  Native  ...  Max AQI  90th Percentile AQI  Median AQI  Days CO  \\\n",
       "0     26.6     0.1  ...      107                   63          43        0   \n",
       "1     56.8     0.1  ...      114                   63          37        0   \n",
       "2     21.9     0.1  ...       75                   53          39        1   \n",
       "3      0.3     0.6  ...       70                   51          19        0   \n",
       "4      2.1     4.8  ...      100                   65          50        1   \n",
       "..     ...     ...  ...      ...                  ...         ...      ...   \n",
       "371   10.7     0.2  ...       90                   52          40        0   \n",
       "372    6.9     0.3  ...      150                   58          38        2   \n",
       "373    0.7     2.3  ...       90                   54          27        0   \n",
       "374    1.9     0.5  ...      159                   61          43        0   \n",
       "375    2.0     1.3  ...       99                   67          44        0   \n",
       "\n",
       "     Days NO2  Days Ozone  Days SO2  Days PM2.5  Days PM10  Level of Concern  \n",
       "0           0         132         0         142          0              Good  \n",
       "1           0           0         0         244          0              Good  \n",
       "2           0         169         0         104          0              Good  \n",
       "3           0           0         0         182          0              Good  \n",
       "4           0         127         0          25         30              Good  \n",
       "..        ...         ...       ...         ...        ...               ...  \n",
       "371         6         169         0          61          1              Good  \n",
       "372         0         131         0          50          0              Good  \n",
       "373         0           0         0         243          1              Good  \n",
       "374         0         149         0          63          1              Good  \n",
       "375         0         198         0          45         31              Good  \n",
       "\n",
       "[376 rows x 70 columns]"
      ],
      "text/html": "<div>\n<style scoped>\n    .dataframe tbody tr th:only-of-type {\n        vertical-align: middle;\n    }\n\n    .dataframe tbody tr th {\n        vertical-align: top;\n    }\n\n    .dataframe thead th {\n        text-align: right;\n    }\n</style>\n<table border=\"1\" class=\"dataframe\">\n  <thead>\n    <tr style=\"text-align: right;\">\n      <th></th>\n      <th>index</th>\n      <th>City</th>\n      <th>State</th>\n      <th>TotalPop</th>\n      <th>Men</th>\n      <th>Women</th>\n      <th>Hispanic</th>\n      <th>White</th>\n      <th>Black</th>\n      <th>Native</th>\n      <th>...</th>\n      <th>Max AQI</th>\n      <th>90th Percentile AQI</th>\n      <th>Median AQI</th>\n      <th>Days CO</th>\n      <th>Days NO2</th>\n      <th>Days Ozone</th>\n      <th>Days SO2</th>\n      <th>Days PM2.5</th>\n      <th>Days PM10</th>\n      <th>Level of Concern</th>\n    </tr>\n  </thead>\n  <tbody>\n    <tr>\n      <th>0</th>\n      <td>0</td>\n      <td>Akron</td>\n      <td>OH</td>\n      <td>267774</td>\n      <td>129620</td>\n      <td>138083</td>\n      <td>1.9</td>\n      <td>64.2</td>\n      <td>26.6</td>\n      <td>0.1</td>\n      <td>...</td>\n      <td>107</td>\n      <td>63</td>\n      <td>43</td>\n      <td>0</td>\n      <td>0</td>\n      <td>132</td>\n      <td>0</td>\n      <td>142</td>\n      <td>0</td>\n      <td>Good</td>\n    </tr>\n    <tr>\n      <th>1</th>\n      <td>1</td>\n      <td>Albany</td>\n      <td>GA</td>\n      <td>93421</td>\n      <td>43571</td>\n      <td>49835</td>\n      <td>3.2</td>\n      <td>36.6</td>\n      <td>56.8</td>\n      <td>0.1</td>\n      <td>...</td>\n      <td>114</td>\n      <td>63</td>\n      <td>37</td>\n      <td>0</td>\n      <td>0</td>\n      <td>0</td>\n      <td>0</td>\n      <td>244</td>\n      <td>0</td>\n      <td>Good</td>\n    </tr>\n    <tr>\n      <th>2</th>\n      <td>2</td>\n      <td>Albany</td>\n      <td>NY</td>\n      <td>147794</td>\n      <td>70664</td>\n      <td>77096</td>\n      <td>7.1</td>\n      <td>58.3</td>\n      <td>21.9</td>\n      <td>0.1</td>\n      <td>...</td>\n      <td>75</td>\n      <td>53</td>\n      <td>39</td>\n      <td>1</td>\n      <td>0</td>\n      <td>169</td>\n      <td>0</td>\n      <td>104</td>\n      <td>0</td>\n      <td>Good</td>\n    </tr>\n    <tr>\n      <th>3</th>\n      <td>3</td>\n      <td>Albany</td>\n      <td>OR</td>\n      <td>61555</td>\n      <td>30378</td>\n      <td>31168</td>\n      <td>10.4</td>\n      <td>81.7</td>\n      <td>0.3</td>\n      <td>0.6</td>\n      <td>...</td>\n      <td>70</td>\n      <td>51</td>\n      <td>19</td>\n      <td>0</td>\n      <td>0</td>\n      <td>0</td>\n      <td>0</td>\n      <td>182</td>\n      <td>0</td>\n      <td>Good</td>\n    </tr>\n    <tr>\n      <th>4</th>\n      <td>4</td>\n      <td>Albuquerque</td>\n      <td>NM</td>\n      <td>632237</td>\n      <td>309415</td>\n      <td>322758</td>\n      <td>46.8</td>\n      <td>41.0</td>\n      <td>2.1</td>\n      <td>4.8</td>\n      <td>...</td>\n      <td>100</td>\n      <td>65</td>\n      <td>50</td>\n      <td>1</td>\n      <td>0</td>\n      <td>127</td>\n      <td>0</td>\n      <td>25</td>\n      <td>30</td>\n      <td>Good</td>\n    </tr>\n    <tr>\n      <th>...</th>\n      <td>...</td>\n      <td>...</td>\n      <td>...</td>\n      <td>...</td>\n      <td>...</td>\n      <td>...</td>\n      <td>...</td>\n      <td>...</td>\n      <td>...</td>\n      <td>...</td>\n      <td>...</td>\n      <td>...</td>\n      <td>...</td>\n      <td>...</td>\n      <td>...</td>\n      <td>...</td>\n      <td>...</td>\n      <td>...</td>\n      <td>...</td>\n      <td>...</td>\n      <td>...</td>\n    </tr>\n    <tr>\n      <th>371</th>\n      <td>371</td>\n      <td>Worcester</td>\n      <td>MA</td>\n      <td>183628</td>\n      <td>89977</td>\n      <td>93611</td>\n      <td>21.5</td>\n      <td>57.6</td>\n      <td>10.7</td>\n      <td>0.2</td>\n      <td>...</td>\n      <td>90</td>\n      <td>52</td>\n      <td>40</td>\n      <td>0</td>\n      <td>6</td>\n      <td>169</td>\n      <td>0</td>\n      <td>61</td>\n      <td>1</td>\n      <td>Good</td>\n    </tr>\n    <tr>\n      <th>372</th>\n      <td>372</td>\n      <td>Wyoming</td>\n      <td>MI</td>\n      <td>56377</td>\n      <td>27516</td>\n      <td>28855</td>\n      <td>26.3</td>\n      <td>57.4</td>\n      <td>6.9</td>\n      <td>0.3</td>\n      <td>...</td>\n      <td>150</td>\n      <td>58</td>\n      <td>38</td>\n      <td>2</td>\n      <td>0</td>\n      <td>131</td>\n      <td>0</td>\n      <td>50</td>\n      <td>0</td>\n      <td>Good</td>\n    </tr>\n    <tr>\n      <th>373</th>\n      <td>373</td>\n      <td>Yakima</td>\n      <td>WA</td>\n      <td>125035</td>\n      <td>61639</td>\n      <td>63374</td>\n      <td>35.5</td>\n      <td>57.6</td>\n      <td>0.7</td>\n      <td>2.3</td>\n      <td>...</td>\n      <td>90</td>\n      <td>54</td>\n      <td>27</td>\n      <td>0</td>\n      <td>0</td>\n      <td>0</td>\n      <td>0</td>\n      <td>243</td>\n      <td>1</td>\n      <td>Good</td>\n    </tr>\n    <tr>\n      <th>374</th>\n      <td>374</td>\n      <td>Yuba City</td>\n      <td>CA</td>\n      <td>75848</td>\n      <td>37647</td>\n      <td>38198</td>\n      <td>26.4</td>\n      <td>50.5</td>\n      <td>1.9</td>\n      <td>0.5</td>\n      <td>...</td>\n      <td>159</td>\n      <td>61</td>\n      <td>43</td>\n      <td>0</td>\n      <td>0</td>\n      <td>149</td>\n      <td>0</td>\n      <td>63</td>\n      <td>1</td>\n      <td>Good</td>\n    </tr>\n    <tr>\n      <th>375</th>\n      <td>375</td>\n      <td>Yuma</td>\n      <td>AZ</td>\n      <td>142402</td>\n      <td>73123</td>\n      <td>69270</td>\n      <td>48.6</td>\n      <td>44.6</td>\n      <td>2.0</td>\n      <td>1.3</td>\n      <td>...</td>\n      <td>99</td>\n      <td>67</td>\n      <td>44</td>\n      <td>0</td>\n      <td>0</td>\n      <td>198</td>\n      <td>0</td>\n      <td>45</td>\n      <td>31</td>\n      <td>Good</td>\n    </tr>\n  </tbody>\n</table>\n<p>376 rows × 70 columns</p>\n</div>"
     },
     "metadata": {},
     "execution_count": 9
    }
   ],
   "source": [
    "pd.read_sql('data', con=engine)"
   ]
  },
  {
   "cell_type": "code",
   "execution_count": 10,
   "metadata": {},
   "outputs": [
    {
     "output_type": "execute_result",
     "data": {
      "text/plain": [
       "Index(['City', 'State', 'TotalPop', 'Men', 'Women', 'Hispanic', 'White',\n",
       "       'Black', 'Native', 'Asian', 'Pacific', 'Income', 'IncomeErr',\n",
       "       'IncomePerCap', 'IncomePerCapErr', 'Poverty', 'ChildPoverty',\n",
       "       'Employed', 'Unemployment', 'PrivateWork', 'PublicWork', 'SelfEmployed',\n",
       "       'FamilyWork', 'Professional', 'Service', 'Office', 'Construction',\n",
       "       'Production', 'Drive', 'Carpool', 'Transit', 'Walk', 'OtherTransp',\n",
       "       'WorkAtHome', 'MeanCommute', 'Unnamed: 0_x', 'Population',\n",
       "       'Violent crime', 'Murder and nonnegligent manslaughter', 'Rape',\n",
       "       'Robbery', 'Aggravated assault', 'Property crime', 'Burglary',\n",
       "       'Larceny- theft', 'Motor vehicle theft', 'Arson', 'Crime Percentage',\n",
       "       'Crime Rating', 'Unnamed: 0_y', 'Rent', 'Year', 'Days with AQI',\n",
       "       'Good Days', 'Moderate Days', 'Unhealthy for Sensitive Groups Days',\n",
       "       'Unhealthy Days', 'Very Unhealthy Days', 'Hazardous Days', 'Max AQI',\n",
       "       '90th Percentile AQI', 'Median AQI', 'Days CO', 'Days NO2',\n",
       "       'Days Ozone', 'Days SO2', 'Days PM2.5', 'Days PM10',\n",
       "       'Level of Concern'],\n",
       "      dtype='object')"
      ]
     },
     "metadata": {},
     "execution_count": 10
    }
   ],
   "source": [
    "df.columns"
   ]
  },
  {
   "cell_type": "code",
   "execution_count": 15,
   "metadata": {},
   "outputs": [
    {
     "output_type": "execute_result",
     "data": {
      "text/plain": [
       "Good        353\n",
       "Moderate     23\n",
       "Name: Level of Concern, dtype: int64"
      ]
     },
     "metadata": {},
     "execution_count": 15
    }
   ],
   "source": [
    "df['Level of Concern'].value_counts()"
   ]
  },
  {
   "cell_type": "code",
   "execution_count": 18,
   "metadata": {},
   "outputs": [],
   "source": [
    "lat_lon = pd.read_csv('notebooks/cities100pop.csv', index_col='Unnamed: 0')"
   ]
  },
  {
   "cell_type": "code",
   "execution_count": 21,
   "metadata": {},
   "outputs": [
    {
     "output_type": "execute_result",
     "data": {
      "text/plain": [
       "               City      lat      lon \n",
       "0     United States  39.6467 -100.6623\n",
       "1          New York  40.8154  -73.9296\n",
       "2           Anaheim  33.8303 -117.9128\n",
       "3        Long Beach  33.7824 -118.1967\n",
       "4       Los Angeles  34.0059 -118.2853\n",
       "..              ...      ...       ...\n",
       "106  Port St. Lucie  27.2862  -80.3760\n",
       "107    Fort Collins  40.5534  105.0869\n",
       "108         Boulder  40.0271  105.2572\n",
       "109         Greeley  40.4067 -104.7764\n",
       "110     Gainesville  34.2675  -83.8284\n",
       "\n",
       "[111 rows x 3 columns]"
      ],
      "text/html": "<div>\n<style scoped>\n    .dataframe tbody tr th:only-of-type {\n        vertical-align: middle;\n    }\n\n    .dataframe tbody tr th {\n        vertical-align: top;\n    }\n\n    .dataframe thead th {\n        text-align: right;\n    }\n</style>\n<table border=\"1\" class=\"dataframe\">\n  <thead>\n    <tr style=\"text-align: right;\">\n      <th></th>\n      <th>City</th>\n      <th>lat</th>\n      <th>lon</th>\n    </tr>\n  </thead>\n  <tbody>\n    <tr>\n      <th>0</th>\n      <td>United States</td>\n      <td>39.6467</td>\n      <td>-100.6623</td>\n    </tr>\n    <tr>\n      <th>1</th>\n      <td>New York</td>\n      <td>40.8154</td>\n      <td>-73.9296</td>\n    </tr>\n    <tr>\n      <th>2</th>\n      <td>Anaheim</td>\n      <td>33.8303</td>\n      <td>-117.9128</td>\n    </tr>\n    <tr>\n      <th>3</th>\n      <td>Long Beach</td>\n      <td>33.7824</td>\n      <td>-118.1967</td>\n    </tr>\n    <tr>\n      <th>4</th>\n      <td>Los Angeles</td>\n      <td>34.0059</td>\n      <td>-118.2853</td>\n    </tr>\n    <tr>\n      <th>...</th>\n      <td>...</td>\n      <td>...</td>\n      <td>...</td>\n    </tr>\n    <tr>\n      <th>106</th>\n      <td>Port St. Lucie</td>\n      <td>27.2862</td>\n      <td>-80.3760</td>\n    </tr>\n    <tr>\n      <th>107</th>\n      <td>Fort Collins</td>\n      <td>40.5534</td>\n      <td>105.0869</td>\n    </tr>\n    <tr>\n      <th>108</th>\n      <td>Boulder</td>\n      <td>40.0271</td>\n      <td>105.2572</td>\n    </tr>\n    <tr>\n      <th>109</th>\n      <td>Greeley</td>\n      <td>40.4067</td>\n      <td>-104.7764</td>\n    </tr>\n    <tr>\n      <th>110</th>\n      <td>Gainesville</td>\n      <td>34.2675</td>\n      <td>-83.8284</td>\n    </tr>\n  </tbody>\n</table>\n<p>111 rows × 3 columns</p>\n</div>"
     },
     "metadata": {},
     "execution_count": 21
    }
   ],
   "source": [
    "lat_lon.drop(['State', 'SizeRank', '2020-12'], 1)"
   ]
  },
  {
   "cell_type": "code",
   "execution_count": 22,
   "metadata": {},
   "outputs": [],
   "source": [
    "import geopy"
   ]
  },
  {
   "cell_type": "code",
   "execution_count": 26,
   "metadata": {},
   "outputs": [],
   "source": [
    "geolocater=geopy.Nominatim(user_agent='cityspire-g')"
   ]
  },
  {
   "cell_type": "code",
   "execution_count": 27,
   "metadata": {},
   "outputs": [
    {
     "output_type": "execute_result",
     "data": {
      "text/plain": [
       "Location(Sacramento, Sacramento County, California, United States, (38.5810606, -121.4938951, 0.0))"
      ]
     },
     "metadata": {},
     "execution_count": 27
    }
   ],
   "source": [
    "geolocater .geocode('Sacramento, CA')"
   ]
  },
  {
   "cell_type": "code",
   "execution_count": 41,
   "metadata": {},
   "outputs": [],
   "source": [
    "lat_lon = [geolocater.geocode(\n",
    "    f\"{row[0]}, {row[1]}\") \n",
    "for row in zip(df['City'], df['State'])]"
   ]
  },
  {
   "cell_type": "code",
   "execution_count": 50,
   "metadata": {},
   "outputs": [],
   "source": [
    "df_lat = pd.DataFrame({'lat':[r[1][0] for r in lat_lon], 'lon': [r[1][1] for r in lat_lon]})"
   ]
  },
  {
   "cell_type": "code",
   "execution_count": 52,
   "metadata": {},
   "outputs": [],
   "source": [
    "df2 = df.copy()"
   ]
  },
  {
   "cell_type": "code",
   "execution_count": 53,
   "metadata": {},
   "outputs": [],
   "source": [
    "df2[['lat', 'lon']] = df_lat"
   ]
  },
  {
   "cell_type": "code",
   "execution_count": 55,
   "metadata": {},
   "outputs": [],
   "source": [
    "df2.to_sql(\"data\", con=engine, if_exists = 'replace')"
   ]
  },
  {
   "cell_type": "code",
   "execution_count": 33,
   "metadata": {},
   "outputs": [
    {
     "output_type": "execute_result",
     "data": {
      "text/plain": [
       "0            Akron\n",
       "1           Albany\n",
       "2           Albany\n",
       "3           Albany\n",
       "4      Albuquerque\n",
       "          ...     \n",
       "371      Worcester\n",
       "372        Wyoming\n",
       "373         Yakima\n",
       "374      Yuba City\n",
       "375           Yuma\n",
       "Name: City, Length: 376, dtype: object"
      ]
     },
     "metadata": {},
     "execution_count": 33
    }
   ],
   "source": [
    "df['City']"
   ]
  },
  {
   "cell_type": "code",
   "execution_count": 57,
   "metadata": {},
   "outputs": [],
   "source": [
    "df2.to_csv('datasets_to_merge/four_merged.csv')"
   ]
  },
  {
   "cell_type": "code",
   "execution_count": null,
   "metadata": {},
   "outputs": [],
   "source": []
  }
 ]
}